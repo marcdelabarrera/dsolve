{
 "cells": [
  {
   "cell_type": "markdown",
   "metadata": {},
   "source": [
    "# `dsolve` examples\n",
    "\n",
    "The objective of `dsolve` is to be easy to use. The system requires a list of strings written in $\\LaTeX$, a dictionary of parameters with numerical values used in the calibration, and the specification of the state variables `x`, the forward-looking variables `p`, and the shocks `z`. \n",
    "\n",
    "Once the system is initialized and solved, `simulate_path` computes the path of endogenous variables given a sequence of unpredicted shocks `z` and a initial state `x0`."
   ]
  },
  {
   "cell_type": "code",
   "execution_count": 2,
   "metadata": {},
   "outputs": [],
   "source": [
    "sys.path.append('/bbkinghome/mbarrera/git_supply/dsolve/src')"
   ]
  },
  {
   "cell_type": "code",
   "execution_count": 3,
   "metadata": {},
   "outputs": [],
   "source": [
    "import dsolve"
   ]
  },
  {
   "cell_type": "code",
   "execution_count": 4,
   "metadata": {},
   "outputs": [],
   "source": [
    "from dsolve import DynamicSystem\n",
    "from dsolve.atoms import Variable, Parameter\n",
    "import numpy as np\n",
    "import matplotlib.pyplot as plt"
   ]
  },
  {
   "cell_type": "markdown",
   "metadata": {},
   "source": [
    "### Variables in `dsolve`\n",
    "\n",
    "A variable in `dsolve` is any symbol that depends on `t`, with the possibility of having an expected value operator. There are many ways to flexibly reference to the same variable as the following example shows."
   ]
  },
  {
   "cell_type": "code",
   "execution_count": 5,
   "metadata": {},
   "outputs": [
    {
     "name": "stdout",
     "output_type": "stream",
     "text": [
      "E_{t}[\\pi^{w}_{t+1}]\n",
      "E_{t}[\\pi^{w}_{t+1}]\n",
      "E_{t}[\\pi^{w}_{t+1}]\n",
      "E_{t}[\\pi^{w}_{t+1}]\n"
     ]
    },
    {
     "data": {
      "text/latex": [
       "$\\displaystyle E_{t}[\\pi^{w}_{t+1}]$"
      ],
      "text/plain": [
       "E_{t}[\\pi^{w}_{t+1}]"
      ]
     },
     "execution_count": 5,
     "metadata": {},
     "output_type": "execute_result"
    }
   ],
   "source": [
    "print(Variable('E_{t}[\\pi^{w}_{t+1}]'))\n",
    "print(Variable('E\\pi^w_{t+1}'))\n",
    "print(Variable('E_t\\pi_{t+1}^w'))\n",
    "print(Variable('E[\\pi_{t+1}^w]'))\n",
    "Variable('E_{t}[\\pi^{w}_{t+1}]').sympy"
   ]
  },
  {
   "cell_type": "markdown",
   "metadata": {},
   "source": [
    "### AR(1)\n",
    "\n",
    "The simples example is an $AR(1)$ process. Since it has no forward-looking variables, `p` does not need to be specified. \n",
    "$$x_t=\\rho x_{t-1}+\\sigma\\epsilon_t$$\n",
    "$x_{-1}=0, \\epsilon_0=1, \\epsilon_t=0\\ \\text{for}\\ t>0$"
   ]
  },
  {
   "cell_type": "code",
   "execution_count": 6,
   "metadata": {},
   "outputs": [],
   "source": [
    "eq = ['x_{t}=\\rho*x_{t-1}+\\sigma*eps_{t}']  # define the law of motion of x_t\n",
    "\n",
    "calibration = {'\\rho':0.8,'\\sigma':1}      # give numerical values to parameters.\n",
    "\n",
    "system = DynamicSystem(eq, x='x_{t-1}', z='eps_{t}', calibration=calibration)\n",
    "#system.simulate(x0 = 0, z = {'eps_{0}':1}, T=12)\n",
    "#mit_shock = system.simulate(x0 = 0, z = {'eps_{0}':1}, T=12)\n",
    "#mit_shock = system.simulate(x0 = 0, z = {'eps_{t}':np.array([1.,0,0,0,0,0,0,0,0,0,0])})\n",
    "\n",
    "#mit_shock.plot('x_{t-1}')"
   ]
  },
  {
   "cell_type": "markdown",
   "metadata": {},
   "source": [
    "### 2 equations NK model\n",
    "\n",
    "$$\\pi_t=\\beta E[\\pi_{t+1}]+\\kappa y_{t}+u_t$$\n",
    "$$y_t=E[y_{t+1}]+(1-\\phi)E[\\pi_{t+1}]+u_t$$"
   ]
  },
  {
   "cell_type": "code",
   "execution_count": null,
   "metadata": {},
   "outputs": [],
   "source": [
    "eq=[\n",
    "    '\\pi_{t}=\\beta*E\\pi_{t+1}+\\kappa*y_{t}+u_{t}',\n",
    "    'y_{t}=Ey_{t+1}+(1-\\phi)*E[\\pi_{t+1}]+\\epsilon_{t}',\n",
    "    '\\epsilon_{t} = \\rho_v*\\epsilon_{t-1}+v_{t}'\n",
    "]\n",
    "calibration = {'\\beta':0.98,'\\kappa':0.1,'\\phi':1.1,'\\rho_v':0.8}\n",
    "system = DynamicSystem(eq, x='\\epsilon_{t-1}', p='\\pi_{t},y_{t}', z='v_{t},u_{t}', calibration=calibration)\n",
    "\n",
    "dsolve.simulate(system, z = {'v_{0}':1}, T=12)\n",
    "\n",
    "#mit_shock = system.simulate(x0=0, z = {'v_{0}':1}, T=12)\n",
    "\n",
    "#fig,ax = plt.subplots()\n",
    "#system.plot(ax,mit_shock,vars='\\pi_t')\n",
    "#ax.legend()\n",
    "#fig.show()\n"
   ]
  },
  {
   "cell_type": "markdown",
   "metadata": {},
   "source": [
    "### Test with static equations\n",
    "\n",
    "`dsolve` also handles static equations. In order to reduce the size of the system, those can be specified using the `s` argument. Equations that define static variables must be written with the `s` variable in the left hand side.\n",
    "\n",
    "Prior to solving the system, `dsolve` will substitute the variables in `s` into the other equations. If `s` is not specified and the system contains static variables, or is not easy to express them, `dsolve` will also solve the system but the matrices will be bigger. "
   ]
  },
  {
   "cell_type": "code",
   "execution_count": 11,
   "metadata": {},
   "outputs": [],
   "source": [
    "eq=[\n",
    "    '\\pi_{t}=b*E\\pi_{t+1}+kappa*y_{t}',\n",
    "    'y_{t}=Ey_{t+1}-(i_t-E\\pi_{t+1}+rho)',\n",
    "    'v_t = rho_v*v_{t-1}+eps_t',\n",
    "    'i_t=rho+phi*\\pi_{t}+v_t'  # static equation, written in the form i_t=.... and specified by s='i_t'\n",
    "]\n",
    "calibration = {'b':0.98,'kappa':0.1,'phi':1.1,'rho_v':0.8, 'rho':0.02}\n",
    "system = DynamicSystem(eq, x='v_{t-1}', p='\\pi_t, y_t', z='eps_t', s='i_t', calibration=calibration)\n",
    "dsolve.simulate(system, z = {'eps_{0}':1}, T=12)\n",
    "# mit_shock = system.simulate(x0=0, z = {'eps_{0}':0.25},T=12)\n",
    "# fig,ax = plt.subplots(ncols=2,figsize=(10,3))\n",
    "# system.plot(ax[0], mit_shock, vars='\\pi_t, y_t')\n",
    "# ax[0].legend()\n",
    "# system.plot(ax[1], mit_shock, vars='i_t')\n",
    "# system.plot_expr(ax[1], mit_shock, expr='i_t-E_t[\\pi_{t+1}]')\n",
    "# ax[1].legend()\n",
    "# fig.show()"
   ]
  },
  {
   "cell_type": "markdown",
   "metadata": {},
   "source": [
    "### Constants"
   ]
  },
  {
   "cell_type": "code",
   "execution_count": 3,
   "metadata": {},
   "outputs": [
    {
     "ename": "KeyError",
     "evalue": "'A_0'",
     "output_type": "error",
     "traceback": [
      "\u001b[1;31m---------------------------------------------------------------------------\u001b[0m",
      "\u001b[1;31mKeyError\u001b[0m                                  Traceback (most recent call last)",
      "\u001b[1;32mc:\\Users\\MBBar\\OneDrive\\Escritorio\\git_local\\dsolve\\notebooks\\dsolve_examples.ipynb Cell 12\u001b[0m in \u001b[0;36m<cell line: 5>\u001b[1;34m()\u001b[0m\n\u001b[0;32m      <a href='vscode-notebook-cell:/c%3A/Users/MBBar/OneDrive/Escritorio/git_local/dsolve/notebooks/dsolve_examples.ipynb#X20sZmlsZQ%3D%3D?line=0'>1</a>\u001b[0m eq \u001b[39m=\u001b[39m [\u001b[39m'\u001b[39m\u001b[39mx_\u001b[39m\u001b[39m{t}\u001b[39;00m\u001b[39m=mu+rho*x_\u001b[39m\u001b[39m{\u001b[39m\u001b[39mt-1}+sigma*eps_\u001b[39m\u001b[39m{t}\u001b[39;00m\u001b[39m'\u001b[39m]  \u001b[39m# define the law of motion of x_t\u001b[39;00m\n\u001b[0;32m      <a href='vscode-notebook-cell:/c%3A/Users/MBBar/OneDrive/Escritorio/git_local/dsolve/notebooks/dsolve_examples.ipynb#X20sZmlsZQ%3D%3D?line=2'>3</a>\u001b[0m calibration \u001b[39m=\u001b[39m {\u001b[39m'\u001b[39m\u001b[39mrho\u001b[39m\u001b[39m'\u001b[39m:\u001b[39m0.8\u001b[39m,\u001b[39m'\u001b[39m\u001b[39msigma\u001b[39m\u001b[39m'\u001b[39m:\u001b[39m1\u001b[39m,\u001b[39m'\u001b[39m\u001b[39mmu\u001b[39m\u001b[39m'\u001b[39m:\u001b[39m1\u001b[39m}      \u001b[39m# give numerical values to parameters.\u001b[39;00m\n\u001b[1;32m----> <a href='vscode-notebook-cell:/c%3A/Users/MBBar/OneDrive/Escritorio/git_local/dsolve/notebooks/dsolve_examples.ipynb#X20sZmlsZQ%3D%3D?line=4'>5</a>\u001b[0m system \u001b[39m=\u001b[39m Klein(eq, x\u001b[39m=\u001b[39m\u001b[39m'\u001b[39m\u001b[39mx_\u001b[39m\u001b[39m{\u001b[39m\u001b[39mt-1}\u001b[39m\u001b[39m'\u001b[39m, z\u001b[39m=\u001b[39m\u001b[39m'\u001b[39m\u001b[39meps_\u001b[39m\u001b[39m{t}\u001b[39;00m\u001b[39m'\u001b[39m, calibration\u001b[39m=\u001b[39mcalibration)\n\u001b[0;32m      <a href='vscode-notebook-cell:/c%3A/Users/MBBar/OneDrive/Escritorio/git_local/dsolve/notebooks/dsolve_examples.ipynb#X20sZmlsZQ%3D%3D?line=5'>6</a>\u001b[0m system\u001b[39m.\u001b[39msimulate(x0 \u001b[39m=\u001b[39m \u001b[39m0\u001b[39m, z \u001b[39m=\u001b[39m {\u001b[39m'\u001b[39m\u001b[39meps_\u001b[39m\u001b[39m{0}\u001b[39;00m\u001b[39m'\u001b[39m:\u001b[39m1\u001b[39m}, T\u001b[39m=\u001b[39m\u001b[39m12\u001b[39m)\n",
      "File \u001b[1;32mc:\\users\\mbbar\\onedrive\\escritorio\\git_local\\dsolve\\src\\dsolve\\solvers.py:90\u001b[0m, in \u001b[0;36mKlein.__init__\u001b[1;34m(self, equations, x, p, z, s, indices, calibration)\u001b[0m\n\u001b[0;32m     88\u001b[0m     \u001b[39mself\u001b[39m\u001b[39m.\u001b[39mcalibrate(calibration)\n\u001b[0;32m     89\u001b[0m     \u001b[39mself\u001b[39m\u001b[39m.\u001b[39msteady_state \u001b[39m=\u001b[39m np\u001b[39m.\u001b[39mlinalg\u001b[39m.\u001b[39minv(\u001b[39mself\u001b[39m\u001b[39m.\u001b[39msystem_numeric[\u001b[39m'\u001b[39m\u001b[39mA\u001b[39m\u001b[39m'\u001b[39m]\u001b[39m-\u001b[39m\u001b[39mself\u001b[39m\u001b[39m.\u001b[39msystem_numeric[\u001b[39m'\u001b[39m\u001b[39mB\u001b[39m\u001b[39m'\u001b[39m])\u001b[39m@self\u001b[39m\u001b[39m.\u001b[39msystem_numeric[\u001b[39m'\u001b[39m\u001b[39mC\u001b[39m\u001b[39m'\u001b[39m]\n\u001b[1;32m---> 90\u001b[0m     \u001b[39mself\u001b[39m\u001b[39m.\u001b[39msystem_solution \u001b[39m=\u001b[39m \u001b[39mself\u001b[39m\u001b[39m.\u001b[39msolve()\n\u001b[0;32m     91\u001b[0m \u001b[39melse\u001b[39;00m:\n\u001b[0;32m     92\u001b[0m     \u001b[39mself\u001b[39m\u001b[39m.\u001b[39mcalibration, \u001b[39mself\u001b[39m\u001b[39m.\u001b[39msystem_numeric, \u001b[39mself\u001b[39m\u001b[39m.\u001b[39msolution \u001b[39m=\u001b[39m \u001b[39mNone\u001b[39;00m, \u001b[39mNone\u001b[39;00m, \u001b[39mNone\u001b[39;00m\n",
      "File \u001b[1;32mc:\\users\\mbbar\\onedrive\\escritorio\\git_local\\dsolve\\src\\dsolve\\solvers.py:219\u001b[0m, in \u001b[0;36mKlein.solve\u001b[1;34m(self)\u001b[0m\n\u001b[0;32m    216\u001b[0m     \u001b[39mraise\u001b[39;00m \u001b[39mValueError\u001b[39;00m(\u001b[39m'\u001b[39m\u001b[39mSystem is not calibrated.\u001b[39m\u001b[39m'\u001b[39m)\n\u001b[0;32m    218\u001b[0m system_numeric \u001b[39m=\u001b[39m \u001b[39mself\u001b[39m\u001b[39m.\u001b[39msystem_numeric\n\u001b[1;32m--> 219\u001b[0m A_0, A_1, gamma \u001b[39m=\u001b[39m system_numeric[\u001b[39m'\u001b[39;49m\u001b[39mA_0\u001b[39;49m\u001b[39m'\u001b[39;49m], system_numeric[\u001b[39m'\u001b[39m\u001b[39mA_1\u001b[39m\u001b[39m'\u001b[39m], system_numeric[\u001b[39m'\u001b[39m\u001b[39mgamma\u001b[39m\u001b[39m'\u001b[39m]\n\u001b[0;32m    220\u001b[0m S, T, _, _, Q, Z \u001b[39m=\u001b[39m ordqz(A_0, A_1, output\u001b[39m=\u001b[39m\u001b[39m'\u001b[39m\u001b[39mcomplex\u001b[39m\u001b[39m'\u001b[39m,sort\u001b[39m=\u001b[39m\u001b[39mlambda\u001b[39;00m alpha,beta: np\u001b[39m.\u001b[39mabs(beta\u001b[39m/\u001b[39m(alpha\u001b[39m+\u001b[39m\u001b[39m1e-10\u001b[39m))\u001b[39m<\u001b[39m\u001b[39m1\u001b[39m)\n\u001b[0;32m    221\u001b[0m Q \u001b[39m=\u001b[39m Q\u001b[39m.\u001b[39mconjugate()\u001b[39m.\u001b[39mT\n",
      "\u001b[1;31mKeyError\u001b[0m: 'A_0'"
     ]
    }
   ],
   "source": [
    "eq = ['x_{t}=mu+rho*x_{t-1}+sigma*eps_{t}']  # define the law of motion of x_t\n",
    "\n",
    "calibration = {'rho':0.8,'sigma':1,'mu':1}      # give numerical values to parameters.\n",
    "\n",
    "system = Klein(eq, x='x_{t-1}', z='eps_{t}', calibration=calibration)\n",
    "system.simulate(x0 = 0, z = {'eps_{0}':1}, T=12)"
   ]
  },
  {
   "cell_type": "markdown",
   "metadata": {},
   "source": [
    "### VAR\n",
    "\n",
    "Shocks can also be specified by its full (unexpected) path realization.\n",
    "\n",
    "\\begin{align}\n",
    "x_{t+1}&=ax_t+by_t+\\epsilon_t\\\\\n",
    "y_{t+1}&=cx_t+dy_t+\\nu_t\n",
    "\\end{align}"
   ]
  },
  {
   "cell_type": "code",
   "execution_count": 8,
   "metadata": {},
   "outputs": [
    {
     "ename": "KeyError",
     "evalue": "'t'",
     "output_type": "error",
     "traceback": [
      "\u001b[1;31m---------------------------------------------------------------------------\u001b[0m",
      "\u001b[1;31mKeyError\u001b[0m                                  Traceback (most recent call last)",
      "\u001b[1;32mc:\\Users\\MBBar\\OneDrive\\Escritorio\\git_local\\dsolve\\notebooks\\dsolve_examples.ipynb Cell 12\u001b[0m in \u001b[0;36m<cell line: 9>\u001b[1;34m()\u001b[0m\n\u001b[0;32m      <a href='vscode-notebook-cell:/c%3A/Users/MBBar/OneDrive/Escritorio/git_local/dsolve/notebooks/dsolve_examples.ipynb#X21sZmlsZQ%3D%3D?line=6'>7</a>\u001b[0m mit_shock \u001b[39m=\u001b[39m system\u001b[39m.\u001b[39msimulate(x0\u001b[39m=\u001b[39m(\u001b[39m0\u001b[39m,\u001b[39m0\u001b[39m), z \u001b[39m=\u001b[39m {\u001b[39m'\u001b[39m\u001b[39meps_\u001b[39m\u001b[39m{t}\u001b[39;00m\u001b[39m'\u001b[39m:np\u001b[39m.\u001b[39marray([\u001b[39m1\u001b[39m,\u001b[39m0\u001b[39m,\u001b[39m0\u001b[39m,\u001b[39m0\u001b[39m,\u001b[39m0\u001b[39m,\u001b[39m0\u001b[39m,\u001b[39m0\u001b[39m,\u001b[39m0\u001b[39m,\u001b[39m-\u001b[39m\u001b[39m0.25\u001b[39m,\u001b[39m0\u001b[39m,\u001b[39m0\u001b[39m,\u001b[39m0\u001b[39m,\u001b[39m0\u001b[39m,\u001b[39m0\u001b[39m,\u001b[39m0\u001b[39m,\u001b[39m0\u001b[39m,\u001b[39m0\u001b[39m,\u001b[39m0\u001b[39m])})\n\u001b[0;32m      <a href='vscode-notebook-cell:/c%3A/Users/MBBar/OneDrive/Escritorio/git_local/dsolve/notebooks/dsolve_examples.ipynb#X21sZmlsZQ%3D%3D?line=7'>8</a>\u001b[0m fig,ax \u001b[39m=\u001b[39m plt\u001b[39m.\u001b[39msubplots()\n\u001b[1;32m----> <a href='vscode-notebook-cell:/c%3A/Users/MBBar/OneDrive/Escritorio/git_local/dsolve/notebooks/dsolve_examples.ipynb#X21sZmlsZQ%3D%3D?line=8'>9</a>\u001b[0m system\u001b[39m.\u001b[39;49mplot(ax,mit_shock,\u001b[39mvars\u001b[39;49m\u001b[39m=\u001b[39;49m\u001b[39m'\u001b[39;49m\u001b[39mx_\u001b[39;49m\u001b[39m{t}\u001b[39;49;00m\u001b[39m,y_\u001b[39;49m\u001b[39m{t}\u001b[39;49;00m\u001b[39m'\u001b[39;49m)\n\u001b[0;32m     <a href='vscode-notebook-cell:/c%3A/Users/MBBar/OneDrive/Escritorio/git_local/dsolve/notebooks/dsolve_examples.ipynb#X21sZmlsZQ%3D%3D?line=9'>10</a>\u001b[0m ax\u001b[39m.\u001b[39mlegend()\n\u001b[0;32m     <a href='vscode-notebook-cell:/c%3A/Users/MBBar/OneDrive/Escritorio/git_local/dsolve/notebooks/dsolve_examples.ipynb#X21sZmlsZQ%3D%3D?line=10'>11</a>\u001b[0m fig\u001b[39m.\u001b[39mshow()\n",
      "File \u001b[1;32mc:\\users\\mbbar\\onedrive\\escritorio\\git_local\\dsolve\\src\\dsolve\\solvers.py:310\u001b[0m, in \u001b[0;36mKlein.plot\u001b[1;34m(self, ax, d, vars, param_dict)\u001b[0m\n\u001b[0;32m    308\u001b[0m out\u001b[39m=\u001b[39m[]\n\u001b[0;32m    309\u001b[0m \u001b[39mfor\u001b[39;00m ivar \u001b[39min\u001b[39;00m \u001b[39mvars\u001b[39m:\n\u001b[1;32m--> 310\u001b[0m     out\u001b[39m.\u001b[39mappend(ax\u001b[39m.\u001b[39mplot(d[\u001b[39m'\u001b[39;49m\u001b[39mt\u001b[39;49m\u001b[39m'\u001b[39;49m],d[ivar], label\u001b[39m=\u001b[39m\u001b[39mrf\u001b[39m\u001b[39m'\u001b[39m\u001b[39m$\u001b[39m\u001b[39m{\u001b[39;00mivar\u001b[39m}\u001b[39;00m\u001b[39m$\u001b[39m\u001b[39m'\u001b[39m))\n\u001b[0;32m    311\u001b[0m \u001b[39mreturn\u001b[39;00m out\n",
      "\u001b[1;31mKeyError\u001b[0m: 't'"
     ]
    },
    {
     "data": {
      "image/png": "[encoded data removed]",
      "text/plain": [
       "<Figure size 640x480 with 1 Axes>"
      ]
     },
     "metadata": {},
     "output_type": "display_data"
    }
   ],
   "source": [
    "eq=[\n",
    "    'x_{t+1}=a*x_{t}+b*y_{t}+eps_{t}',\n",
    "    'y_{t+1}=c*x_{t}+d*y_{t}+nu_{t}'\n",
    "]\n",
    "calibration = {'a':0.8,'b':0.5,'c':-0.7,'d':-0.2}\n",
    "system = Klein(eq, x='x_t,y_t', z='eps_t,nu_t', calibration=calibration)\n",
    "mit_shock = system.simulate(x0=(0,0), z = {'eps_{t}':np.array([1,0,0,0,0,0,0,0,-0.25,0,0,0,0,0,0,0,0,0])})\n",
    "fig,ax = plt.subplots()\n",
    "system.plot(ax,mit_shock,vars='x_{t},y_{t}')\n",
    "ax.legend()\n",
    "fig.show()"
   ]
  },
  {
   "cell_type": "code",
   "execution_count": null,
   "metadata": {},
   "outputs": [],
   "source": []
  }
 ],
 "metadata": {
  "kernelspec": {
   "display_name": "env",
   "language": "python",
   "name": "python3"
  },
  "language_info": {
   "codemirror_mode": {
    "name": "ipython",
    "version": 3
   },
   "file_extension": ".py",
   "mimetype": "text/x-python",
   "name": "python",
   "nbconvert_exporter": "python",
   "pygments_lexer": "ipython3",
   "version": "3.9.10"
  },
  "orig_nbformat": 4,
  "vscode": {
   "interpreter": {
    "hash": "d276b5144e8edc9efedc6ce7f71e4345fa986ced770dae20368a9676ac0f1d05"
   }
  }
 },
 "nbformat": 4,
 "nbformat_minor": 2
}
