{
 "cells": [
  {
   "cell_type": "code",
   "execution_count": 90,
   "metadata": {},
   "outputs": [],
   "source": [
    "import jax.numpy as jnp\n",
    "import jax\n",
    "from scipy.optimize import root\n",
    "import matplotlib.pyplot as plt\n"
   ]
  },
  {
   "attachments": {},
   "cell_type": "markdown",
   "metadata": {},
   "source": [
    "AR1"
   ]
  },
  {
   "cell_type": "code",
   "execution_count": null,
   "metadata": {},
   "outputs": [],
   "source": [
    "rho = 0.9\n",
    "def ar1(x_, x, eps):\n",
    "    return rho*x_+eps-x"
   ]
  },
  {
   "cell_type": "code",
   "execution_count": 84,
   "metadata": {},
   "outputs": [],
   "source": [
    "T = 50\n",
    "xT = 0\n",
    "Eps = jnp.zeros((T,1))\n",
    "Eps = Eps.at[0].set(1)\n",
    "X = jnp.zeros((T,1))\n",
    "#X = X.at[0,:].set(0)"
   ]
  },
  {
   "attachments": {},
   "cell_type": "markdown",
   "metadata": {},
   "source": [
    "$$x_t = \\rho x_{t-1}+\\epsilon_t$$"
   ]
  },
  {
   "cell_type": "code",
   "execution_count": 85,
   "metadata": {},
   "outputs": [],
   "source": [
    "def F(X, Eps):\n",
    "    X = X.reshape(-1,1)\n",
    "    out = jnp.zeros((T,1))\n",
    "    for t in range(T):\n",
    "        if t == 0:\n",
    "            out = out.at[t].set(ar1(0, X[t,:], Eps[t,:]))\n",
    "        else:\n",
    "            out = out.at[t].set(ar1(X[t-1,:], X[t,:], Eps[t,:]))\n",
    "    out\n",
    "    return out"
   ]
  },
  {
   "cell_type": "code",
   "execution_count": 87,
   "metadata": {},
   "outputs": [],
   "source": [
    "sol = root(lambda X: F(X,Eps).reshape(-1), x0=X)"
   ]
  },
  {
   "cell_type": "code",
   "execution_count": null,
   "metadata": {},
   "outputs": [],
   "source": [
    "plt.plot(sol.x)"
   ]
  },
  {
   "attachments": {},
   "cell_type": "markdown",
   "metadata": {},
   "source": [
    "VAR\n",
    "\n",
    "$x_t=Ax_{t-1}+B\\epsilon_t$\n",
    "\n"
   ]
  },
  {
   "attachments": {},
   "cell_type": "markdown",
   "metadata": {},
   "source": [
    "$X_t=\\begin{bmatrix}x_0\\\\x_1\\\\ \\vdots \\\\x_T\\end{bmatrix}$"
   ]
  },
  {
   "cell_type": "code",
   "execution_count": 125,
   "metadata": {},
   "outputs": [],
   "source": [
    "A = jnp.array([[0.8,0.2],\n",
    "                [0.1,0.7]])\n",
    "B = jnp.array([[1],[1]])\n",
    "def var(x_, x, eps):\n",
    "    '''\n",
    "    x: 1d array\n",
    "    eps: 1d array\n",
    "    Returns\n",
    "    -------\n",
    "    1d array\n",
    "    '''\n",
    "    return A@x_+B@eps-x"
   ]
  },
  {
   "cell_type": "code",
   "execution_count": 126,
   "metadata": {},
   "outputs": [
    {
     "data": {
      "text/plain": [
       "Array([1.2, 1.5], dtype=float32)"
      ]
     },
     "execution_count": 126,
     "metadata": {},
     "output_type": "execute_result"
    }
   ],
   "source": [
    "A@jnp.array([1,2])"
   ]
  },
  {
   "cell_type": "code",
   "execution_count": 127,
   "metadata": {},
   "outputs": [],
   "source": [
    "T = 50\n",
    "xT = 0\n",
    "Eps = jnp.zeros((T,1))\n",
    "Eps = Eps.at[0].set(1)\n",
    "X = jnp.zeros((T,2))\n",
    "#X = X.at[0,:].set(0)"
   ]
  },
  {
   "cell_type": "code",
   "execution_count": 128,
   "metadata": {},
   "outputs": [],
   "source": [
    "def F(X, Eps):\n",
    "    X = X.reshape(-1,2)\n",
    "    out = jnp.zeros((T,2))\n",
    "    for t in range(T):\n",
    "        if t == 0:\n",
    "            out = out.at[t].set(var(jnp.array([0,0]), X[t,:], Eps[t,:]))\n",
    "        else:\n",
    "            out = out.at[t].set(var(X[t-1,:], X[t,:], Eps[t,:]))\n",
    "    out\n",
    "    return out"
   ]
  },
  {
   "cell_type": "code",
   "execution_count": 129,
   "metadata": {},
   "outputs": [],
   "source": [
    "sol = root(lambda X: F(X,Eps).reshape(-1), x0=X.reshape(-1))"
   ]
  },
  {
   "cell_type": "code",
   "execution_count": 130,
   "metadata": {},
   "outputs": [
    {
     "data": {
      "text/plain": [
       "[<matplotlib.lines.Line2D at 0x7f6eb4109fa0>,\n",
       " <matplotlib.lines.Line2D at 0x7f6eb4096040>]"
      ]
     },
     "execution_count": 130,
     "metadata": {},
     "output_type": "execute_result"
    },
    {
     "data": {
      "image/png": "[encoded data removed]",
      "text/plain": [
       "<Figure size 640x480 with 1 Axes>"
      ]
     },
     "metadata": {},
     "output_type": "display_data"
    }
   ],
   "source": [
    "plt.plot(sol.x.reshape(-1,2))"
   ]
  },
  {
   "attachments": {},
   "cell_type": "markdown",
   "metadata": {},
   "source": [
    "NK model\n",
    "\n",
    "$$\\pi_t=\\beta E[\\pi_{t+1}]+\\kappa y_{t}$$\n",
    "$$y_t=E[y_{t+1}]+(1-\\phi)E[\\pi_{t+1}]+v_t$$\n",
    "$$v_{t} = \\rho_vv_{t-1}+\\epsilon_{t}$$"
   ]
  },
  {
   "cell_type": "code",
   "execution_count": 183,
   "metadata": {},
   "outputs": [],
   "source": [
    "phi = 1.2\n",
    "kappa = 0.1\n",
    "beta = 0.99\n",
    "rho_v = 0.5\n",
    "\n",
    "def f(x_, x, p, p1, eps):\n",
    "    v_, v = x_[0], x[0] \n",
    "    y, pi = p\n",
    "    y1, pi1 = p1\n",
    "    out = jnp.zeros(3)\n",
    "    out = out.at[0].set(beta*pi1+kappa*y-pi)\n",
    "    out = out.at[1].set(y1+(1-phi)*pi1+v-y)\n",
    "    out = out.at[2].set(rho_v*v_+eps[0]-v)\n",
    "    return out\n",
    "\n",
    "def F(X, P, Eps):\n",
    "    out = jnp.zeros((T,3))\n",
    "    for t in range(T):\n",
    "        if t == 0:\n",
    "            out = out.at[t].set(f(jnp.array([0]), X[t,:], P[t,:],P[t+1,:], Eps[t,:]))\n",
    "        if t== T-1:\n",
    "            out = out.at[t].set(f(X[t-1,:], X[t,:], P[t,:],jnp.array([0,0]), Eps[t,:]))\n",
    "        else:\n",
    "            out = out.at[t].set(f(X[t-1,:], X[t,:], P[t,:],P[t+1,:], Eps[t,:]))\n",
    "    out\n",
    "    return out"
   ]
  },
  {
   "cell_type": "code",
   "execution_count": 184,
   "metadata": {},
   "outputs": [],
   "source": [
    "def broadcast(x, Eps):\n",
    "    x = x.reshape((T,-1))\n",
    "    X = x[:,[1]]\n",
    "    P = x[:,[1,2]]\n",
    "    return F(X,P,Eps)"
   ]
  },
  {
   "cell_type": "code",
   "execution_count": 185,
   "metadata": {},
   "outputs": [],
   "source": [
    "T = 50\n",
    "xT = 0\n",
    "Eps = jnp.zeros((T,1))\n",
    "Eps = Eps.at[0].set(1)\n",
    "X = jnp.zeros((T,1))\n",
    "P = jnp.zeros((T,2))\n",
    "\n",
    "sol = root(lambda x: broadcast(x,Eps).flatten(), x0=jnp.column_stack((X,P)).flatten())"
   ]
  },
  {
   "cell_type": "code",
   "execution_count": 191,
   "metadata": {},
   "outputs": [
    {
     "data": {
      "text/plain": [
       " message: The iteration is not making good progress, as measured by the \n",
       "            improvement from the last ten iterations.\n",
       " success: False\n",
       "  status: 5\n",
       "     fun: [ 1.965e-03  1.827e-01 ...  0.000e+00  2.355e-02]\n",
       "       x: [-1.318e+20  8.880e-01 ... -2.735e-02 -8.350e-03]\n",
       "    nfev: 409\n",
       "    fjac: [[ 1.000e+00  2.565e-07 ...  0.000e+00  2.483e-07]\n",
       "           [ 1.000e-05  2.294e-08 ...  0.000e+00  2.221e-08]\n",
       "           ...\n",
       "           [ 0.000e+00 -4.767e-04 ...  0.000e+00 -1.095e-03]\n",
       "           [ 0.000e+00 -0.000e+00 ...  1.000e+00 -0.000e+00]]\n",
       "       r: [ 1.742e-23  1.000e-01 ... -6.101e-03 -0.000e+00]\n",
       "     qtf: [ 1.964e-03  6.487e-04 ... -9.256e-05 -0.000e+00]"
      ]
     },
     "execution_count": 191,
     "metadata": {},
     "output_type": "execute_result"
    }
   ],
   "source": [
    "sol"
   ]
  },
  {
   "cell_type": "code",
   "execution_count": 192,
   "metadata": {},
   "outputs": [],
   "source": [
    "x = sol.x"
   ]
  },
  {
   "cell_type": "code",
   "execution_count": 193,
   "metadata": {},
   "outputs": [],
   "source": [
    "x = x.reshape((T,-1))\n",
    "X = x[:,[1]]\n",
    "P = x[:,[1,2]]"
   ]
  },
  {
   "cell_type": "code",
   "execution_count": 194,
   "metadata": {},
   "outputs": [
    {
     "data": {
      "text/plain": [
       "Array([[ 1.96512416e-03,  1.82719380e-01,  9.82778072e-02],\n",
       "       [-3.02041229e-02,  3.66482250e-02,  1.95104823e-01],\n",
       "       [-3.75562124e-02,  4.22974071e-03,  3.20733637e-02],\n",
       "       [-3.18621397e-02, -3.55265290e-03, -4.88415360e-03],\n",
       "       [-3.12328525e-02, -3.75477527e-03, -1.07607935e-02],\n",
       "       [-2.44064312e-02, -4.12326679e-03, -1.13071520e-02],\n",
       "       [-2.38401275e-02, -2.83314940e-03, -9.16973315e-03],\n",
       "       [-1.78701188e-02, -2.93548196e-03, -8.22326634e-03],\n",
       "       [-1.76702011e-02, -1.82637072e-03, -6.19857572e-03],\n",
       "       [-1.26890857e-02, -1.98816438e-03, -5.54690696e-03],\n",
       "       [-1.27393948e-02, -1.12158619e-03, -3.99956806e-03],\n",
       "       [-8.73316731e-03, -1.31645123e-03, -3.62561317e-03],\n",
       "       [-8.91838036e-03, -6.59975049e-04, -2.48465594e-03],\n",
       "       [-5.81404520e-03, -8.48639058e-04, -2.30154512e-03],\n",
       "       [-6.05151523e-03, -3.69609828e-04, -1.48770446e-03],\n",
       "       [-3.73799191e-03, -5.33377344e-04, -1.41602615e-03],\n",
       "       [-3.97374481e-03, -1.95050598e-04, -8.54002545e-04],\n",
       "       [-2.31702882e-03, -3.26089881e-04, -8.43905727e-04],\n",
       "       [-2.52455729e-03, -9.54038696e-05, -4.67756996e-04],\n",
       "       [-1.38374465e-03, -1.93445565e-04, -4.85578377e-04],\n",
       "       [-1.55426387e-03, -4.01506622e-05, -2.42066919e-04],\n",
       "       [-7.96958222e-04, -1.10423643e-04, -2.69189273e-04],\n",
       "       [-9.35134769e-04, -1.00018915e-05, -1.14972936e-04],\n",
       "       [-4.46706719e-04, -5.92569377e-05, -1.41867204e-04],\n",
       "       [-5.63476176e-04,  7.80413939e-06, -4.47258790e-05],\n",
       "       [-2.51307036e-04, -2.81039356e-05, -6.77990611e-05],\n",
       "       [-3.60750128e-04,  2.16061107e-05, -3.44519503e-06],\n",
       "       [-1.53178597e-04, -6.24003451e-06, -2.39035035e-05],\n",
       "       [-2.72169564e-04,  3.66034074e-05,  2.39050605e-05],\n",
       "       [-1.17363765e-04,  1.05903609e-05,  6.23609503e-06],\n",
       "       [-2.59578082e-04,  5.50454715e-05,  5.02270923e-05],\n",
       "       [-1.22395315e-04,  2.76162173e-05,  3.27653106e-05],\n",
       "       [-2.98919273e-04,  7.91458588e-05,  8.11000064e-05],\n",
       "       [-1.57273447e-04,  4.82492942e-05,  6.30620561e-05],\n",
       "       [-3.74714640e-04,  1.10075984e-04,  1.21324978e-04],\n",
       "       [-2.17186433e-04,  7.54399080e-05,  1.02725862e-04],\n",
       "       [-4.76344023e-04,  1.48706837e-04,  1.74131928e-04],\n",
       "       [-3.00504355e-04,  1.11535170e-04,  1.56287235e-04],\n",
       "       [-5.95424150e-04,  1.95404034e-04,  2.42227150e-04],\n",
       "       [-4.06383420e-04,  1.58657407e-04,  2.27635042e-04],\n",
       "       [-7.24683865e-04,  2.50231416e-04,  3.27381014e-04],\n",
       "       [-5.33367856e-04,  2.16879489e-04,  3.20094492e-04],\n",
       "       [-8.57611420e-04,  3.09397030e-04,  4.32277098e-04],\n",
       "       [-6.77766628e-04,  2.71205703e-04,  4.39023395e-04],\n",
       "       [-9.85888531e-04,  3.05938011e-04,  5.71363897e-04],\n",
       "       [-8.18980508e-04,  3.32214986e-05,  6.43649604e-04],\n",
       "       [-1.03310810e-03, -9.81985591e-04,  9.94817121e-04],\n",
       "       [-6.37027959e-04, -5.71479881e-03,  1.98839116e-03],\n",
       "       [ 3.60255042e-04, -2.56782789e-02,  6.20776741e-03],\n",
       "       [ 5.61478827e-03,  0.00000000e+00,  2.35522464e-02]],      dtype=float32)"
      ]
     },
     "execution_count": 194,
     "metadata": {},
     "output_type": "execute_result"
    }
   ],
   "source": [
    "F(X,P,Eps)"
   ]
  },
  {
   "cell_type": "code",
   "execution_count": 195,
   "metadata": {},
   "outputs": [
    {
     "data": {
      "text/plain": [
       "<matplotlib.lines.Line2D at 0x7f6eb4452f40>"
      ]
     },
     "execution_count": 195,
     "metadata": {},
     "output_type": "execute_result"
    },
    {
     "data": {
      "image/png": "[encoded data removed]",
      "text/plain": [
       "<Figure size 640x480 with 1 Axes>"
      ]
     },
     "metadata": {},
     "output_type": "display_data"
    }
   ],
   "source": [
    "fig,ax=plt.subplots()\n",
    "ax.plot(X)\n",
    "ax.plot(P)\n",
    "ax.axhline(0)"
   ]
  },
  {
   "cell_type": "code",
   "execution_count": null,
   "metadata": {},
   "outputs": [],
   "source": []
  }
 ],
 "metadata": {
  "kernelspec": {
   "display_name": "Python 3",
   "language": "python",
   "name": "python3"
  },
  "language_info": {
   "codemirror_mode": {
    "name": "ipython",
    "version": 3
   },
   "file_extension": ".py",
   "mimetype": "text/x-python",
   "name": "python",
   "nbconvert_exporter": "python",
   "pygments_lexer": "ipython3",
   "version": "3.9.10"
  },
  "orig_nbformat": 4
 },
 "nbformat": 4,
 "nbformat_minor": 2
}
